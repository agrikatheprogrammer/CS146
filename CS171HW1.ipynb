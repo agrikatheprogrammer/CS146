{
  "cells": [
    {
      "cell_type": "markdown",
      "metadata": {
        "id": "Gdtzd9xH7k7X"
      },
      "source": [
        "# Process data"
      ]
    },
    {
      "cell_type": "code",
      "execution_count": 8,
      "metadata": {
        "collapsed": true,
        "id": "0WXx0PMBr4cA"
      },
      "outputs": [],
      "source": [
        "import csv\n",
        "import numpy as np\n",
        "from sklearn.preprocessing import StandardScaler\n",
        "from imblearn.over_sampling import RandomOverSampler\n",
        "from sklearn.linear_model import LogisticRegression\n",
        "import matplotlib.pyplot as plt\n",
        "from sklearn.metrics import classification_report,confusion_matrix, accuracy_score\n",
        "from sklearn.ensemble import RandomForestClassifier"
      ]
    },
    {
      "cell_type": "code",
      "execution_count": 9,
      "metadata": {
        "id": "jThlWzraxb3m"
      },
      "outputs": [],
      "source": [
        "file_path=\"diabetes.csv\"\n",
        "# Read the CSV file\n",
        "with open(file_path, 'r') as file:\n",
        "    reader = csv.reader(file)\n",
        "    header = next(reader)  # Skip the header row\n",
        "    data = []\n",
        "    for row in reader:\n",
        "        data.append([float(value) for value in row])\n",
        "\n",
        "# Convert to numpy array for easier manipulation\n",
        "data = np.array(data)"
      ]
    },
    {
      "cell_type": "code",
      "execution_count": 10,
      "metadata": {
        "id": "tLtVr07qxSeZ"
      },
      "outputs": [],
      "source": [
        "# Columns to replace zero values\n",
        "columns_to_replace = ['Glucose', 'BloodPressure', 'SkinThickness', 'Insulin', 'BMI']\n",
        "columns_indices = [header.index(col) for col in columns_to_replace]\n",
        "\n",
        "for col_idx in columns_indices:\n",
        "    col_values = data[:, col_idx]\n",
        "    non_zero_values = col_values[col_values != 0]\n",
        "    mean_value = np.mean(non_zero_values)\n",
        "    col_values[col_values == 0] = mean_value\n",
        "    data[:, col_idx] = col_values"
      ]
    },
    {
      "cell_type": "code",
      "execution_count": 5,
      "metadata": {
        "id": "NzZJcyuW3HeR"
      },
      "outputs": [],
      "source": [
        "np.random.shuffle(data)\n",
        "\n",
        "# Split into train (60%), validation (20%), and test (20%) sets\n",
        "train_idx = int(0.6 * len(data))\n",
        "valid_idx = int(0.8 * len(data))\n",
        "\n",
        "train = data[:train_idx]\n",
        "valid = data[train_idx:valid_idx]\n",
        "test = data[valid_idx:]"
      ]
    },
    {
      "cell_type": "code",
      "execution_count": 6,
      "metadata": {
        "id": "L93TlmUQ3OOL"
      },
      "outputs": [],
      "source": [
        "def scale_dataset(dataframe, oversample=False):\n",
        "    X = dataframe[:, :-1]  # Extract features (all columns except the last)\n",
        "    y = dataframe[:, -1]   # Extract labels (last column)\n",
        "\n",
        "    scaler = StandardScaler()\n",
        "    X = scaler.fit_transform(X)\n",
        "\n",
        "    if oversample:\n",
        "        ros = RandomOverSampler()\n",
        "        X, y = ros.fit_resample(X, y)\n",
        "\n",
        "    data = np.hstack((X, y.reshape(-1, 1)))  # Concatenate X and y back together\n",
        "\n",
        "    return data, X, y"
      ]
    },
    {
      "cell_type": "code",
      "execution_count": 7,
      "metadata": {
        "id": "WVpJV_yZwoWF"
      },
      "outputs": [],
      "source": [
        "train, X_train, y_train=scale_dataset(train,oversample=True)\n",
        "valid, X_valid, y_valid=scale_dataset(valid)\n",
        "test, X_test, y_test=scale_dataset(test)"
      ]
    },
    {
      "cell_type": "markdown",
      "metadata": {
        "id": "8PnyBFbsiOwA"
      },
      "source": [
        "# Random Forest"
      ]
    },
    {
      "cell_type": "code",
      "execution_count": 15,
      "metadata": {
        "id": "OnzjRlRXp7gi"
      },
      "outputs": [],
      "source": [
        "def train_rf_model(X_train, y_train, X_valid, y_valid, params):\n",
        "    \"\"\"\n",
        "    Train Random Forest models with different hyperparameters and visualize accuracy and loss.\n",
        "\n",
        "    Parameters:\n",
        "    - X_train, y_train: Training data and labels\n",
        "    - X_valid, y_valid: Validation data and labels\n",
        "    - params: Dictionary of lists containing different values to try for each parameter\n",
        "\n",
        "    Returns:\n",
        "    - best_model: Trained Random Forest model with the lowest validation loss\n",
        "    \"\"\"\n",
        "    rf_val_acc= -float('inf')\n",
        "    best_model = None\n",
        "    accuracies = []\n",
        "    best_params_rf=None\n",
        "\n",
        "    for n_estimators in params['n_estimators']:\n",
        "        for max_depth in params['max_depth']:\n",
        "            for min_samples_split in params['min_samples_split']:\n",
        "                for min_samples_leaf in params['min_samples_leaf']:\n",
        "                    # Create Random Forest classifier\n",
        "                    rf_model = RandomForestClassifier(n_estimators=n_estimators,\n",
        "                                                      max_depth=max_depth,\n",
        "                                                      min_samples_split=min_samples_split,\n",
        "                                                      min_samples_leaf=min_samples_leaf,\n",
        "                                                      random_state=42)\n",
        "\n",
        "                    # Train the model\n",
        "                    rf_model.fit(X_train, y_train)\n",
        "\n",
        "                    # Evaluate on validation set\n",
        "                    val_accuracy = rf_model.score(X_valid, y_valid)\n",
        "                    accuracies.append(val_accuracy)\n",
        "\n",
        "                    # Track the best model based on validation accuracy\n",
        "                    if val_accuracy > rf_val_acc:\n",
        "                        rf_val_acc = val_accuracy\n",
        "                        best_model = rf_model\n",
        "                        best_params_rf = {'n_estimators': n_estimators,'max_depth': max_depth,'min_samples_split': min_samples_split,'min_samples_leaf': min_samples_leaf}\n",
        "    return best_model, rf_val_acc,best_params_rf"
      ]
    },
    {
      "cell_type": "code",
      "source": [
        "# Define parameter ranges to try\n",
        "params = {\n",
        "    'n_estimators': [10,25,50, 100, 125,150],\n",
        "    'max_depth': [None, 10, 20],\n",
        "    'min_samples_split': [2, 4,8, 10],\n",
        "    'min_samples_leaf': [1, 2, 4,8]\n",
        "}\n",
        "\n",
        "# Train Random Forest models with different parameters & get the most accurate one\n",
        "best_rf_model, rf_accuracy,best_params = train_rf_model(X_train, y_train, X_valid, y_valid, params)\n",
        "\n",
        "\n",
        "print(f'Random Forest Test Accuracy: {rf_accuracy}')\n",
        "print(f'Best Params: {best_params}')"
      ],
      "metadata": {
        "colab": {
          "base_uri": "https://localhost:8080/",
          "height": 0
        },
        "id": "Nq-B5--gZl_R",
        "outputId": "1cae335b-9408-4a3e-b34b-8abe93b4b8ec"
      },
      "execution_count": 16,
      "outputs": [
        {
          "output_type": "stream",
          "name": "stdout",
          "text": [
            "Random Forest Test Accuracy: 0.8181818181818182\n",
            "Best Params: {'n_estimators': 100, 'max_depth': None, 'min_samples_split': 2, 'min_samples_leaf': 4}\n"
          ]
        }
      ]
    },
    {
      "cell_type": "code",
      "execution_count": 17,
      "metadata": {
        "colab": {
          "base_uri": "https://localhost:8080/",
          "height": 0
        },
        "id": "goan4q_kjZ6M",
        "outputId": "7dcfc2ae-8fc0-47ab-8301-cabfad9aae03"
      },
      "outputs": [
        {
          "output_type": "stream",
          "name": "stdout",
          "text": [
            "\n",
            "Random Forest Classification Report:\n",
            "              precision    recall  f1-score   support\n",
            "\n",
            "         0.0       0.92      0.76      0.83       105\n",
            "         1.0       0.63      0.86      0.72        49\n",
            "\n",
            "    accuracy                           0.79       154\n",
            "   macro avg       0.77      0.81      0.78       154\n",
            "weighted avg       0.83      0.79      0.80       154\n",
            "\n"
          ]
        }
      ],
      "source": [
        "print(\"\\nRandom Forest Classification Report:\")\n",
        "y_pred_rf = best_rf_model.predict(X_test)\n",
        "print(classification_report(y_test, y_pred_rf))"
      ]
    },
    {
      "cell_type": "markdown",
      "metadata": {
        "id": "m71cWQ4j69FS"
      },
      "source": [
        "# Logistic Regression\n"
      ]
    },
    {
      "cell_type": "code",
      "source": [
        "def train_lg_model(X_train, y_train, X_valid, y_valid, params):\n",
        "    \"\"\"\n",
        "    Train Logistic Regression models with different hyperparameters and select the one with the highest accuracy.\n",
        "\n",
        "    Parameters:\n",
        "    - X_train, y_train: Training data and labels\n",
        "    - X_valid, y_valid: Validation data and labels\n",
        "    - params: Dictionary of lists containing different values to try for each parameter\n",
        "\n",
        "    Returns:\n",
        "    - best_model: Trained Logistic Regression model with the highest accuracy\n",
        "    - best_accuracy: Highest accuracy achieved on the validation set\n",
        "    - best_params: Best parameters configuration that achieved the highest accuracy\n",
        "    \"\"\"\n",
        "    best_accuracy = 0.0\n",
        "    best_model = None\n",
        "    best_params = None\n",
        "\n",
        "    for penalty in params['penalty']:\n",
        "        for C in params['C']:\n",
        "            for solver in params['solver']:\n",
        "                # Create Logistic Regression classifier\n",
        "                lg_model = LogisticRegression(penalty=penalty, C=C, solver=solver, random_state=42)\n",
        "\n",
        "                # Train the model\n",
        "                lg_model.fit(X_train, y_train)\n",
        "\n",
        "                # Evaluate on validation set\n",
        "                val_accuracy = lg_model.score(X_valid, y_valid)\n",
        "\n",
        "                # Track the best model based on validation accuracy\n",
        "                if val_accuracy > best_accuracy:\n",
        "                    best_accuracy = val_accuracy\n",
        "                    best_model = lg_model\n",
        "                    best_params = {'penalty': penalty, 'C': C, 'solver': solver}\n",
        "\n",
        "    return best_model, best_accuracy, best_params"
      ],
      "metadata": {
        "id": "fegVHPVWV2ko"
      },
      "execution_count": 33,
      "outputs": []
    },
    {
      "cell_type": "code",
      "source": [
        "# Define parameter ranges to try\n",
        "lg_params = {\n",
        "    'penalty': ['l1', 'l2'],\n",
        "    'C': [0.001, 0.01, 0.1, 1, 10],\n",
        "    'solver': ['liblinear', 'saga']\n",
        "}\n",
        "\n",
        "# Train Logistic Regression models with different parameters & get the most accurate one\n",
        "best_lg_model, lg_accuracy, best_lg_params = train_lg_model(X_train, y_train, X_valid, y_valid, lg_params)\n",
        "print(f'Logistic Regression Validation Accuracy: {lg_accuracy}')\n",
        "print(f'Best Parameters: {best_lg_params}')"
      ],
      "metadata": {
        "colab": {
          "base_uri": "https://localhost:8080/",
          "height": 0
        },
        "id": "q-u0LphQaf1u",
        "outputId": "d4fae66f-20d3-4137-d7db-5a5ddcfd5e56"
      },
      "execution_count": 37,
      "outputs": [
        {
          "output_type": "stream",
          "name": "stdout",
          "text": [
            "Logistic Regression Validation Accuracy: 0.7662337662337663\n",
            "Best Parameters: {'penalty': 'l1', 'C': 0.1, 'solver': 'saga'}\n"
          ]
        }
      ]
    },
    {
      "cell_type": "code",
      "execution_count": 38,
      "metadata": {
        "id": "Nyi9nSL6wQfS"
      },
      "outputs": [],
      "source": [
        "y_pred=best_lg_model.predict(X_test)"
      ]
    },
    {
      "cell_type": "code",
      "execution_count": 39,
      "metadata": {
        "id": "1KZb33WuwkDM",
        "colab": {
          "base_uri": "https://localhost:8080/",
          "height": 0
        },
        "outputId": "059f236a-38fc-4d73-9b4e-04721721a27d"
      },
      "outputs": [
        {
          "output_type": "stream",
          "name": "stdout",
          "text": [
            "              precision    recall  f1-score   support\n",
            "\n",
            "         0.0       0.91      0.85      0.88       105\n",
            "         1.0       0.71      0.82      0.76        49\n",
            "\n",
            "    accuracy                           0.84       154\n",
            "   macro avg       0.81      0.83      0.82       154\n",
            "weighted avg       0.85      0.84      0.84       154\n",
            "\n"
          ]
        }
      ],
      "source": [
        "print(classification_report(y_test,y_pred))"
      ]
    }
  ],
  "metadata": {
    "colab": {
      "provenance": [],
      "toc_visible": true
    },
    "kernelspec": {
      "display_name": "Python 3",
      "name": "python3"
    },
    "language_info": {
      "name": "python"
    }
  },
  "nbformat": 4,
  "nbformat_minor": 0
}