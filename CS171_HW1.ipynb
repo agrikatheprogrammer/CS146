{
  "cells": [
    {
      "cell_type": "markdown",
      "metadata": {
        "id": "Gdtzd9xH7k7X"
      },
      "source": [
        "# Process data"
      ]
    },
    {
      "cell_type": "code",
      "execution_count": 54,
      "metadata": {
        "collapsed": true,
        "id": "0WXx0PMBr4cA"
      },
      "outputs": [],
      "source": [
        "import csv\n",
        "import seaborn as sns\n",
        "import numpy as np\n",
        "from sklearn.preprocessing import StandardScaler\n",
        "from imblearn.over_sampling import RandomOverSampler\n",
        "from sklearn.linear_model import LogisticRegression\n",
        "import matplotlib.pyplot as plt\n",
        "from sklearn.metrics import classification_report,confusion_matrix, accuracy_score\n",
        "from sklearn.ensemble import RandomForestClassifier"
      ]
    },
    {
      "cell_type": "code",
      "execution_count": 41,
      "metadata": {
        "id": "jThlWzraxb3m"
      },
      "outputs": [],
      "source": [
        "file_path=\"diabetes.csv\"\n",
        "# Read the CSV file\n",
        "with open(file_path, 'r') as file:\n",
        "    reader = csv.reader(file)\n",
        "    header = next(reader)  # Skip the header row\n",
        "    data = []\n",
        "    for row in reader:\n",
        "        data.append([float(value) for value in row])\n",
        "\n",
        "# Convert to numpy array for easier manipulation\n",
        "data = np.array(data)"
      ]
    },
    {
      "cell_type": "code",
      "execution_count": 42,
      "metadata": {
        "id": "tLtVr07qxSeZ"
      },
      "outputs": [],
      "source": [
        "# Columns to replace zero values\n",
        "columns_to_replace = ['Glucose', 'BloodPressure', 'SkinThickness', 'Insulin', 'BMI']\n",
        "columns_indices = [header.index(col) for col in columns_to_replace]\n",
        "\n",
        "for col_idx in columns_indices:\n",
        "    col_values = data[:, col_idx]\n",
        "    non_zero_values = col_values[col_values != 0]\n",
        "    mean_value = np.mean(non_zero_values)\n",
        "    col_values[col_values == 0] = mean_value\n",
        "    data[:, col_idx] = col_values"
      ]
    },
    {
      "cell_type": "code",
      "execution_count": 43,
      "metadata": {
        "id": "NzZJcyuW3HeR"
      },
      "outputs": [],
      "source": [
        "np.random.shuffle(data)\n",
        "\n",
        "# Split into train (60%), validation (20%), and test (20%) sets\n",
        "train_idx = int(0.6 * len(data))\n",
        "valid_idx = int(0.8 * len(data))\n",
        "\n",
        "train = data[:train_idx]\n",
        "valid = data[train_idx:valid_idx]\n",
        "test = data[valid_idx:]"
      ]
    },
    {
      "cell_type": "code",
      "execution_count": 44,
      "metadata": {
        "id": "L93TlmUQ3OOL"
      },
      "outputs": [],
      "source": [
        "def scale_dataset(dataframe, oversample=False):\n",
        "    X = dataframe[:, :-1]  # Extract features (all columns except the last)\n",
        "    y = dataframe[:, -1]   # Extract labels (last column)\n",
        "\n",
        "    scaler = StandardScaler()\n",
        "    X = scaler.fit_transform(X)\n",
        "\n",
        "    if oversample:\n",
        "        ros = RandomOverSampler()\n",
        "        X, y = ros.fit_resample(X, y)\n",
        "\n",
        "    data = np.hstack((X, y.reshape(-1, 1)))  # Concatenate X and y back together\n",
        "\n",
        "    return data, X, y"
      ]
    },
    {
      "cell_type": "code",
      "execution_count": 45,
      "metadata": {
        "id": "WVpJV_yZwoWF"
      },
      "outputs": [],
      "source": [
        "train, X_train, y_train=scale_dataset(train,oversample=True)\n",
        "valid, X_valid, y_valid=scale_dataset(valid)\n",
        "test, X_test, y_test=scale_dataset(test)"
      ]
    },
    {
      "cell_type": "markdown",
      "metadata": {
        "id": "8PnyBFbsiOwA"
      },
      "source": [
        "# Random Forest"
      ]
    },
    {
      "cell_type": "code",
      "execution_count": null,
      "metadata": {
        "id": "OnzjRlRXp7gi"
      },
      "outputs": [],
      "source": [
        "def train_rf_model(X_train, y_train, X_valid, y_valid, params):\n",
        "    \"\"\"\n",
        "    Train Random Forest models with different hyperparameters and visualize accuracy and loss.\n",
        "\n",
        "    Parameters:\n",
        "    - X_train, y_train: Training data and labels\n",
        "    - X_valid, y_valid: Validation data and labels\n",
        "    - params: Dictionary of lists containing different values to try for each parameter\n",
        "\n",
        "    Returns:\n",
        "    - best_model: Trained Random Forest model with the lowest validation loss\n",
        "    \"\"\"\n",
        "    rf_val_acc= -float('inf')\n",
        "    best_model = None\n",
        "    accuracies = []\n",
        "    best_params_rf=None\n",
        "\n",
        "    for n_estimators in params['n_estimators']:\n",
        "        for max_depth in params['max_depth']:\n",
        "            for min_samples_split in params['min_samples_split']:\n",
        "                for min_samples_leaf in params['min_samples_leaf']:\n",
        "                    # Create Random Forest classifier\n",
        "                    rf_model = RandomForestClassifier(n_estimators=n_estimators,\n",
        "                                                      max_depth=max_depth,\n",
        "                                                      min_samples_split=min_samples_split,\n",
        "                                                      min_samples_leaf=min_samples_leaf,\n",
        "                                                      random_state=42)\n",
        "\n",
        "                    # Train the model\n",
        "                    rf_model.fit(X_train, y_train)\n",
        "\n",
        "                    # Evaluate on validation set\n",
        "                    val_accuracy = rf_model.score(X_valid, y_valid)\n",
        "                    accuracies.append(val_accuracy)\n",
        "\n",
        "                    # Track the best model based on validation accuracy\n",
        "                    if val_accuracy > rf_val_acc:\n",
        "                        rf_val_acc = val_accuracy\n",
        "                        best_model = rf_model\n",
        "                        best_params_rf = {'n_estimators': n_estimators,'max_depth': max_depth,'min_samples_split': min_samples_split,'min_samples_leaf': min_samples_leaf}\n",
        "    return best_model, rf_val_acc,best_params_rf"
      ]
    },
    {
      "cell_type": "code",
      "source": [
        "# Define parameter ranges to try\n",
        "params = {\n",
        "    'n_estimators': [10,25,50, 100, 125,150],\n",
        "    'max_depth': [None, 10, 20],\n",
        "    'min_samples_split': [2, 4,8, 10],\n",
        "    'min_samples_leaf': [1, 2, 4,8]\n",
        "}\n",
        "\n",
        "# Train Random Forest models with different parameters & get the most accurate one\n",
        "best_rf_model, rf_accuracy,best_params = train_rf_model(X_train, y_train, X_valid, y_valid, params)\n",
        "\n",
        "\n",
        "print(f'Random Forest Validation Accuracy: {rf_accuracy}')\n",
        "print(f'Best Params: {best_params}')"
      ],
      "metadata": {
        "colab": {
          "base_uri": "https://localhost:8080/"
        },
        "id": "Nq-B5--gZl_R",
        "outputId": "1cae335b-9408-4a3e-b34b-8abe93b4b8ec"
      },
      "execution_count": null,
      "outputs": [
        {
          "output_type": "stream",
          "name": "stdout",
          "text": [
            "Random Forest Test Accuracy: 0.8181818181818182\n",
            "Best Params: {'n_estimators': 100, 'max_depth': None, 'min_samples_split': 2, 'min_samples_leaf': 4}\n"
          ]
        }
      ]
    },
    {
      "cell_type": "code",
      "execution_count": 56,
      "metadata": {
        "colab": {
          "base_uri": "https://localhost:8080/"
        },
        "id": "goan4q_kjZ6M",
        "outputId": "e45fee9b-aa94-41b1-f2b0-493c4e8869e7"
      },
      "outputs": [
        {
          "output_type": "stream",
          "name": "stdout",
          "text": [
            "\n",
            "Random Forest Classification Report:\n",
            "              precision    recall  f1-score   support\n",
            "\n",
            "         0.0       0.88      0.84      0.86       100\n",
            "         1.0       0.73      0.80      0.76        54\n",
            "\n",
            "    accuracy                           0.82       154\n",
            "   macro avg       0.81      0.82      0.81       154\n",
            "weighted avg       0.83      0.82      0.83       154\n",
            "\n"
          ]
        }
      ],
      "source": [
        "print(\"\\nRandom Forest Classification Report:\")\n",
        "y_pred_rf = best_rf_model.predict(X_test)\n",
        "print(classification_report(y_test, y_pred_rf))"
      ]
    },
    {
      "cell_type": "code",
      "source": [
        "# Compute accuracy score\n",
        "rf_acc_score = accuracy_score(y_test, y_pred_rf)\n",
        "print(f'Random Forest Test Accuracy Score: {rf_acc_score}')\n",
        "\n",
        "# Generate confusion matrix\n",
        "rf_cm = confusion_matrix(y_test, y_pred_rf)\n",
        "print(f'\\nRandom Forest Confusion Matrix:\\n{rf_cm}')\n",
        "\n",
        "# Plot confusion matrix\n",
        "plt.figure(figsize=(4,3))\n",
        "sns.heatmap(rf_cm, annot=True, fmt='d', cmap='Blues')\n",
        "plt.title('Random Forest Confusion Matrix')\n",
        "plt.xlabel('Predicted label')\n",
        "plt.ylabel('True label')\n",
        "plt.show()"
      ],
      "metadata": {
        "colab": {
          "base_uri": "https://localhost:8080/",
          "height": 420
        },
        "id": "zslC2NZSqBVP",
        "outputId": "bdde5251-bf0e-468a-8bc8-8fb43e8e4329"
      },
      "execution_count": 65,
      "outputs": [
        {
          "output_type": "stream",
          "name": "stdout",
          "text": [
            "Random Forest Test Accuracy Score: 0.8246753246753247\n",
            "\n",
            "Random Forest Confusion Matrix:\n",
            "[[84 16]\n",
            " [11 43]]\n"
          ]
        },
        {
          "output_type": "display_data",
          "data": {
            "text/plain": [
              "<Figure size 400x300 with 2 Axes>"
            ],
            "image/png": "[encoded data removed]"
          },
          "metadata": {}
        }
      ]
    },
    {
      "cell_type": "markdown",
      "metadata": {
        "id": "m71cWQ4j69FS"
      },
      "source": [
        "# Logistic Regression\n"
      ]
    },
    {
      "cell_type": "code",
      "source": [
        "def train_lg_model(X_train, y_train, X_valid, y_valid, params):\n",
        "    \"\"\"\n",
        "    Train Logistic Regression models with different hyperparameters and select the one with the highest accuracy.\n",
        "\n",
        "    Parameters:\n",
        "    - X_train, y_train: Training data and labels\n",
        "    - X_valid, y_valid: Validation data and labels\n",
        "    - params: Dictionary of lists containing different values to try for each parameter\n",
        "\n",
        "    Returns:\n",
        "    - best_model: Trained Logistic Regression model with the highest accuracy\n",
        "    - best_accuracy: Highest accuracy achieved on the validation set\n",
        "    - best_params: Best parameters configuration that achieved the highest accuracy\n",
        "    \"\"\"\n",
        "    best_accuracy = 0.0\n",
        "    best_model = None\n",
        "    best_params = None\n",
        "\n",
        "    for penalty in params['penalty']:\n",
        "        for C in params['C']:\n",
        "            for solver in params['solver']:\n",
        "                # Create Logistic Regression classifier\n",
        "                lg_model = LogisticRegression(penalty=penalty, C=C, solver=solver, random_state=42)\n",
        "\n",
        "                # Train the model\n",
        "                lg_model.fit(X_train, y_train)\n",
        "\n",
        "                # Evaluate on validation set\n",
        "                val_accuracy = lg_model.score(X_valid, y_valid)\n",
        "\n",
        "                # Track the best model based on validation accuracy\n",
        "                if val_accuracy > best_accuracy:\n",
        "                    best_accuracy = val_accuracy\n",
        "                    best_model = lg_model\n",
        "                    best_params = {'penalty': penalty, 'C': C, 'solver': solver}\n",
        "\n",
        "    return best_model, best_accuracy, best_params"
      ],
      "metadata": {
        "id": "fegVHPVWV2ko"
      },
      "execution_count": null,
      "outputs": []
    },
    {
      "cell_type": "code",
      "source": [
        "# Define parameter ranges to try\n",
        "lg_params = {\n",
        "    'penalty': ['l1', 'l2'],\n",
        "    'C': [0.001, 0.01, 0.1, 1, 10],\n",
        "    'solver': ['liblinear', 'saga']\n",
        "}\n",
        "\n",
        "# Train Logistic Regression models with different parameters & get the most accurate one\n",
        "best_lg_model, lg_accuracy, best_lg_params = train_lg_model(X_train, y_train, X_valid, y_valid, lg_params)\n",
        "print(f'Logistic Regression Validation Accuracy: {lg_accuracy}')\n",
        "print(f'Best Parameters: {best_lg_params}')"
      ],
      "metadata": {
        "colab": {
          "base_uri": "https://localhost:8080/"
        },
        "id": "q-u0LphQaf1u",
        "outputId": "d4fae66f-20d3-4137-d7db-5a5ddcfd5e56"
      },
      "execution_count": null,
      "outputs": [
        {
          "output_type": "stream",
          "name": "stdout",
          "text": [
            "Logistic Regression Validation Accuracy: 0.7662337662337663\n",
            "Best Parameters: {'penalty': 'l1', 'C': 0.1, 'solver': 'saga'}\n"
          ]
        }
      ]
    },
    {
      "cell_type": "code",
      "execution_count": 62,
      "metadata": {
        "id": "Nyi9nSL6wQfS",
        "colab": {
          "base_uri": "https://localhost:8080/"
        },
        "outputId": "78fb9bd3-c1b2-4475-c649-de32c940b386"
      },
      "outputs": [
        {
          "output_type": "stream",
          "name": "stdout",
          "text": [
            "              precision    recall  f1-score   support\n",
            "\n",
            "         0.0       0.85      0.77      0.81       100\n",
            "         1.0       0.63      0.74      0.68        54\n",
            "\n",
            "    accuracy                           0.76       154\n",
            "   macro avg       0.74      0.76      0.75       154\n",
            "weighted avg       0.77      0.76      0.76       154\n",
            "\n"
          ]
        }
      ],
      "source": [
        "y_pred_lg=best_lg_model.predict(X_test)\n",
        "print(classification_report(y_test,y_pred))"
      ]
    },
    {
      "cell_type": "code",
      "source": [
        "lg_acc_score = accuracy_score(y_test, y_pred_lg)\n",
        "print(f'Logistic Regression Test Accuracy Score: {lg_acc_score}')\n",
        "\n",
        "# Generate confusion matrix\n",
        "lg_cm = confusion_matrix(y_test, y_pred_lg)\n",
        "print(f'\\nLogistic Regression Confusion Matrix:\\n{lg_cm}')\n",
        "\n",
        "# Plot confusion matrix\n",
        "plt.figure(figsize=(4, 3))\n",
        "sns.heatmap(lg_cm, annot=True, fmt='d', cmap='Blues')\n",
        "plt.title('Logistic Regression Confusion Matrix')\n",
        "plt.xlabel('Predicted label')\n",
        "plt.ylabel('True label')\n",
        "plt.show()"
      ],
      "metadata": {
        "colab": {
          "base_uri": "https://localhost:8080/",
          "height": 420
        },
        "id": "eoaAljvDq_yz",
        "outputId": "19eef768-b77c-43b9-c057-7abe9be2a123"
      },
      "execution_count": 66,
      "outputs": [
        {
          "output_type": "stream",
          "name": "stdout",
          "text": [
            "Logistic Regression Test Accuracy Score: 0.7597402597402597\n",
            "\n",
            "Logistic Regression Confusion Matrix:\n",
            "[[77 23]\n",
            " [14 40]]\n"
          ]
        },
        {
          "output_type": "display_data",
          "data": {
            "text/plain": [
              "<Figure size 400x300 with 2 Axes>"
            ],
            "image/png": "[encoded data removed]"
          },
          "metadata": {}
        }
      ]
    }
  ],
  "metadata": {
    "colab": {
      "provenance": []
    },
    "kernelspec": {
      "display_name": "Python 3",
      "name": "python3"
    },
    "language_info": {
      "name": "python"
    }
  },
  "nbformat": 4,
  "nbformat_minor": 0
}